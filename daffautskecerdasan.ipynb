{
 "cells": [
  {
   "cell_type": "code",
   "execution_count": null,
   "id": "1ee9084b-8b90-4789-8551-42badb584e87",
   "metadata": {},
   "outputs": [],
   "source": [
    "# Data\n",
    "\n",
    "company_detail_list = [\n",
    "      {\n",
    "          'name': 'Company 1',\n",
    "          'domain': 'Retail',\n",
    "          'country': 'United States'\n",
    "      },\n",
    "      {\n",
    "          'name': 'Company 2',\n",
    "          'domain': 'Technology',\n",
    "          'country': 'United Kingdom'\n",
    "      },\n",
    "      {\n",
    "          'name': 'Company 3',\n",
    "          'domain': 'Healthcare',\n",
    "          'country': 'United States'\n",
    "      }\n",
    "  ]\n",
    "\n",
    "employee_detail_list = [\n",
    "     {\n",
    "          'name': 'EMP-0001',\n",
    "          'first_name': 'John',\n",
    "          'last_name': 'Doe',\n",
    "          'full_name': 'John Doe',\n",
    "          'company': 'Company 1',\n",
    "          'nationality': 'Australia'\n",
    "      },\n",
    "      {\n",
    "          'name': 'EMP-0002',\n",
    "          'first_name': 'Tom',\n",
    "          'last_name': 'Smith',\n",
    "          'full_name': 'Tom Smith',\n",
    "          'company': 'Company 2',\n",
    "          'nationality': 'United States'\n",
    "      },\n",
    "      {\n",
    "          'name': 'EMP-0003',\n",
    "          'first_name': 'Andrew',\n",
    "          'last_name': 'Sebastian',\n",
    "          'full_name': 'Andrew Sebastian',\n",
    "          'company': 'Company 3',\n",
    "          'nationality': 'United States'\n",
    "      },\n",
    "      {\n",
    "          'name': 'EMP-0005',\n",
    "          'first_name': 'Ying Han',\n",
    "          'last_name': 'Tan',\n",
    "          'full_name': 'Ying Han Tan',\n",
    "          'company': 'Company 1',\n",
    "          'nationality': 'Australia'\n",
    "      },\n",
    "      {\n",
    "          'name': 'EMP-0015',\n",
    "          'first_name': 'Kenneth',\n",
    "          'last_name': 'Ng',\n",
    "          'full_name': 'Kenneth Ng',\n",
    "          'company': 'Company 3',\n",
    "          'nationality': 'United States'\n",
    "      },\n",
    "      {\n",
    "          'name': 'EMP-0018',\n",
    "          'first_name': 'Rubby',\n",
    "          'last_name': 'Lee',\n",
    "          'full_name': 'Rubby Lee',\n",
    "          'company': 'Company 2',\n",
    "          'nationality': 'Hong Kong'\n",
    "      },\n",
    "     {\n",
    "          'name': 'EMP-0017',\n",
    "          'first_name': 'Robert',\n",
    "          'last_name': 'White',\n",
    "          'full_name': 'Robert White',\n",
    "          'company': 'Company 1',\n",
    "          'nationality': 'United Kingdom'\n",
    "      }\n",
    "  ]"
   ]
  },
  {
   "cell_type": "code",
   "execution_count": 1,
   "id": "d725e00e-bfe7-44a7-bbe3-2cb2e95eacae",
   "metadata": {},
   "outputs": [
    {
     "data": {
      "text/plain": [
       "[{'name': 'Company 3'}, {'name': 'Company 2'}, {'name': 'Company 1'}]"
      ]
     },
     "execution_count": 1,
     "metadata": {},
     "output_type": "execute_result"
    }
   ],
   "source": [
    "[\n",
    "    {\"name\": \"Company 3\"},\n",
    "    {\"name\": \"Company 2\"},\n",
    "    {\"name\": \"Company 1\"}\n",
    "]\n"
   ]
  },
  {
   "cell_type": "code",
   "execution_count": 3,
   "id": "d731f694-609f-4993-bce2-2dcbfcde3c3d",
   "metadata": {},
   "outputs": [
    {
     "name": "stdout",
     "output_type": "stream",
     "text": [
      "Company 1: Retail (United States)\n",
      "Company 2: Technology (United Kingdom)\n",
      "Company 3: Healthcare (United States)\n"
     ]
    }
   ],
   "source": [
    "company_detail_list = [\n",
    "    {\n",
    "        'name': 'Company 1',\n",
    "        'domain': 'Retail',\n",
    "        'country': 'United States'\n",
    "    },\n",
    "    {\n",
    "        'name': 'Company 2',\n",
    "        'domain': 'Technology',\n",
    "        'country': 'United Kingdom'\n",
    "    },\n",
    "    {\n",
    "        'name': 'Company 3',\n",
    "        'domain': 'Healthcare',\n",
    "        'country': 'United States'\n",
    "    }\n",
    "]\n",
    "\n",
    "for company in company_detail_list:\n",
    "    print(f\"{company['name']}: {company['domain']} ({company['country']})\")\n"
   ]
  },
  {
   "cell_type": "code",
   "execution_count": 4,
   "id": "ae15b0eb-ba26-4b76-aaea-4d9ad69d1bf5",
   "metadata": {},
   "outputs": [
    {
     "data": {
      "text/plain": [
       "{'Retail': ['John Doe', 'Ying Han Tan', 'Robert White'],\n",
       " 'Technology': ['Tom Smith', 'Rubby Lee'],\n",
       " 'Healthcare': ['Andrew Sebastian', 'Kenneth Ng']}"
      ]
     },
     "execution_count": 4,
     "metadata": {},
     "output_type": "execute_result"
    }
   ],
   "source": [
    "{\n",
    "    \"Retail\": [\n",
    "         \"John Doe\",\n",
    "         \"Ying Han Tan\",\n",
    "         \"Robert White\"\n",
    "     ],\n",
    "    \"Technology\": [\n",
    "         \"Tom Smith\",\n",
    "         \"Rubby Lee\"\n",
    "     ],\n",
    "    \"Healthcare\": [\n",
    "         \"Andrew Sebastian\",\n",
    "         \"Kenneth Ng\"\n",
    "     ]\n",
    "}\n"
   ]
  },
  {
   "cell_type": "code",
   "execution_count": 5,
   "id": "09ccb7c2-e99e-4420-ae27-42459dea6163",
   "metadata": {},
   "outputs": [
    {
     "data": {
      "text/plain": [
       "[{'full_name': 'John Doe', 'company': 'Company 1', 'country': 'United States'},\n",
       " {'full_name': 'Tom Smith',\n",
       "  'company': 'Company 2',\n",
       "  'country': 'United Kingdom'},\n",
       " {'full_name': 'Andrew Sebastian',\n",
       "  'company': 'Company 3',\n",
       "  'country': 'United Kingdom'},\n",
       " {'full_name': 'Ying Han Tan',\n",
       "  'company': 'Company 1',\n",
       "  'country': 'United States'},\n",
       " {'full_name': 'Kenneth Ng',\n",
       "  'company': 'Company 3',\n",
       "  'country': 'United States'},\n",
       " {'full_name': 'Rubby Lee',\n",
       "  'company': 'Company 2',\n",
       "  'country': 'United Kingdom'},\n",
       " {'full_name': 'Robert White',\n",
       "  'company': 'Company 1',\n",
       "  'country': 'United States'}]"
      ]
     },
     "execution_count": 5,
     "metadata": {},
     "output_type": "execute_result"
    }
   ],
   "source": [
    "[{\n",
    "    \"full_name\": \"John Doe\",\n",
    "    \"company\": \"Company 1\",\n",
    "    \"country\": \"United States\"\n",
    "}, {\n",
    "    \"full_name\": \"Tom Smith\",\n",
    "    \"company\": \"Company 2\",\n",
    "    \"country\": \"United Kingdom\"\n",
    "}, {\n",
    "    \"full_name\": \"Andrew Sebastian\",\n",
    "    \"company\": \"Company 3\",\n",
    "    \"country\": \"United Kingdom\"\n",
    "},  {\n",
    "    \"full_name\": \"Ying Han Tan\",\n",
    "    \"company\": \"Company 1\",\n",
    "    \"country\": \"United States\"\n",
    "},  {\n",
    "    \"full_name\": \"Kenneth Ng\",\n",
    "    \"company\": \"Company 3\",\n",
    "    \"country\": \"United States\"\n",
    "},  {\n",
    "    \"full_name\": \"Rubby Lee\",\n",
    "    \"company\": \"Company 2\",\n",
    "    \"country\": \"United Kingdom\"\n",
    "},   {\n",
    "    \"full_name\": \"Robert White\",\n",
    "    \"company\": \"Company 1\",\n",
    "    \"country\": \"United States\"\n",
    "},\n",
    "    \n",
    "]"
   ]
  },
  {
   "cell_type": "code",
   "execution_count": 6,
   "id": "aa7d85da-8428-47fb-9df9-5e0a2ba85fdf",
   "metadata": {},
   "outputs": [
    {
     "data": {
      "text/plain": [
       "[{'company': 'Company 1',\n",
       "  'employee_nationality': {'Australia': 2, 'Hong Kong': 1}},\n",
       " {'company': 'Company 2',\n",
       "  'employee_nationality': {'Hong Kong': 1, 'United States': 1}},\n",
       " {'company': 'Company 3', 'employee_nationality': {'United States': 2}}]"
      ]
     },
     "execution_count": 6,
     "metadata": {},
     "output_type": "execute_result"
    }
   ],
   "source": [
    "[{\n",
    "    \"company\": \"Company 1\",\n",
    "    \"employee_nationality\": {\n",
    "        \"Australia\": 2,\n",
    "        \"Hong Kong\": 1\n",
    "    }\n",
    "}, {\n",
    "    \"company\": \"Company 2\",\n",
    "    \"employee_nationality\": {\n",
    "        \"Hong Kong\": 1,\n",
    "        \"United States\": 1\n",
    "    }\n",
    "}, {\n",
    "    \"company\": \"Company 3\",\n",
    "    \"employee_nationality\": {\n",
    "        \"United States\": 2\n",
    "    }\n",
    "}]"
   ]
  },
  {
   "cell_type": "code",
   "execution_count": null,
   "id": "b8268f16-89ba-4542-aed4-3da05c4816d1",
   "metadata": {},
   "outputs": [],
   "source": []
  }
 ],
 "metadata": {
  "kernelspec": {
   "display_name": "Python 3 (ipykernel)",
   "language": "python",
   "name": "python3"
  },
  "language_info": {
   "codemirror_mode": {
    "name": "ipython",
    "version": 3
   },
   "file_extension": ".py",
   "mimetype": "text/x-python",
   "name": "python",
   "nbconvert_exporter": "python",
   "pygments_lexer": "ipython3",
   "version": "3.12.5"
  }
 },
 "nbformat": 4,
 "nbformat_minor": 5
}
