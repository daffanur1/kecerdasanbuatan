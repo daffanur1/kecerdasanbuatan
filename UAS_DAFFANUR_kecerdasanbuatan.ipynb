{
 "cells": [
  {
   "cell_type": "code",
   "execution_count": 1,
   "id": "f0d92343-b009-4296-b7a1-e6d9acd8da0c",
   "metadata": {},
   "outputs": [
    {
     "name": "stdout",
     "output_type": "stream",
     "text": [
      "Tingkat Stres: 82.38\n"
     ]
    }
   ],
   "source": [
    "import numpy as np\n",
    "import skfuzzy as fuzz\n",
    "from skfuzzy import control as ctrl\n",
    "\n",
    "# Define fuzzy variables\n",
    "jumlah_tugas = ctrl.Antecedent(np.arange(0, 11, 1), 'jumlah_tugas')\n",
    "waktu_belajar = ctrl.Antecedent(np.arange(0, 11, 1), 'waktu_belajar')\n",
    "waktu_tidur = ctrl.Antecedent(np.arange(0, 11, 1), 'waktu_tidur')\n",
    "tingkat_stres = ctrl.Consequent(np.arange(0, 101, 1), 'tingkat_stres')\n",
    "\n",
    "# Membership functions for jumlah_tugas\n",
    "jumlah_tugas['sedikit'] = fuzz.trapmf(jumlah_tugas.universe, [0, 0, 2, 4])\n",
    "jumlah_tugas['sedang'] = fuzz.trimf(jumlah_tugas.universe, [2, 5, 8])\n",
    "jumlah_tugas['banyak'] = fuzz.trapmf(jumlah_tugas.universe, [6, 8, 10, 10])\n",
    "\n",
    "# Membership functions for waktu_belajar\n",
    "waktu_belajar['sebentar'] = fuzz.trapmf(waktu_belajar.universe, [0, 0, 2, 4])\n",
    "waktu_belajar['cukup'] = fuzz.trimf(waktu_belajar.universe, [2, 5, 8])\n",
    "waktu_belajar['lama'] = fuzz.trapmf(waktu_belajar.universe, [6, 8, 10, 10])\n",
    "\n",
    "# Membership functions for waktu_tidur\n",
    "waktu_tidur['kurang'] = fuzz.trapmf(waktu_tidur.universe, [0, 0, 3, 5])\n",
    "waktu_tidur['cukup'] = fuzz.trimf(waktu_tidur.universe, [4, 6, 8])\n",
    "waktu_tidur['lebih'] = fuzz.trapmf(waktu_tidur.universe, [7, 9, 10, 10])\n",
    "\n",
    "# Membership functions for tingkat_stres\n",
    "tingkat_stres['rendah'] = fuzz.trapmf(tingkat_stres.universe, [0, 0, 30, 50])\n",
    "tingkat_stres['sedang'] = fuzz.trimf(tingkat_stres.universe, [30, 50, 70])\n",
    "tingkat_stres['tinggi'] = fuzz.trapmf(tingkat_stres.universe, [60, 80, 100, 100])\n",
    "\n",
    "# Define fuzzy rules\n",
    "rule1 = ctrl.Rule(jumlah_tugas['sedikit'] & waktu_belajar['sebentar'] & waktu_tidur['lebih'], tingkat_stres['rendah'])\n",
    "rule2 = ctrl.Rule(jumlah_tugas['sedang'] & waktu_belajar['cukup'] & waktu_tidur['cukup'], tingkat_stres['sedang'])\n",
    "rule3 = ctrl.Rule(jumlah_tugas['banyak'] | waktu_belajar['lama'] | waktu_tidur['kurang'], tingkat_stres['tinggi'])\n",
    "\n",
    "# Create control system and simulation\n",
    "stress_ctrl = ctrl.ControlSystem([rule1, rule2, rule3])\n",
    "stress_simulation = ctrl.ControlSystemSimulation(stress_ctrl)\n",
    "\n",
    "# Input values\n",
    "stress_simulation.input['jumlah_tugas'] = 7\n",
    "stress_simulation.input['waktu_belajar'] = 6\n",
    "stress_simulation.input['waktu_tidur'] = 4\n",
    "\n",
    "# Compute the result\n",
    "stress_simulation.compute()\n",
    "\n",
    "# Output the result\n",
    "print(f\"Tingkat Stres: {stress_simulation.output['tingkat_stres']:.2f}\")\n"
   ]
  },
  {
   "cell_type": "code",
   "execution_count": null,
   "id": "89faa324-53ae-4d71-a265-24b39fbc2365",
   "metadata": {},
   "outputs": [],
   "source": []
  }
 ],
 "metadata": {
  "kernelspec": {
   "display_name": "Python 3 (ipykernel)",
   "language": "python",
   "name": "python3"
  },
  "language_info": {
   "codemirror_mode": {
    "name": "ipython",
    "version": 3
   },
   "file_extension": ".py",
   "mimetype": "text/x-python",
   "name": "python",
   "nbconvert_exporter": "python",
   "pygments_lexer": "ipython3",
   "version": "3.12.5"
  }
 },
 "nbformat": 4,
 "nbformat_minor": 5
}
