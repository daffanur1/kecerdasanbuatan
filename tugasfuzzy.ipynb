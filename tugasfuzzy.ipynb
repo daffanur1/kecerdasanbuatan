{
 "cells": [
  {
   "cell_type": "code",
   "execution_count": 2,
   "id": "af2d439a-831b-49ce-b6ec-27f4975bb432",
   "metadata": {},
   "outputs": [
    {
     "name": "stdout",
     "output_type": "stream",
     "text": [
      "Permintaan: 2000, Persediaan: 700\n",
      "Produksi (Defuzzifikasi): 0.0\n"
     ]
    }
   ],
   "source": [
    "import numpy as np\n",
    "\n",
    "# Fungsi keanggotaan fuzzy\n",
    "def turun(x, a=0, b=3000):\n",
    "    return max(0, min((b - x) / (b - a), 1))\n",
    "\n",
    "def tetap(x, a=1000, b=3000, c=5000):\n",
    "    return max(0, min((x - a) / (b - a), (c - x) / (c - b), 1))\n",
    "\n",
    "def naik(x, a=3000, b=6000):\n",
    "    return max(0, min((x - a) / (b - a), 1))\n",
    "\n",
    "def sedikit(x, a=0, b=300):\n",
    "    return max(0, min((b - x) / (b - a), 1))\n",
    "\n",
    "def sedang(x, a=200, b=500, c=800):\n",
    "    return max(0, min((x - a) / (b - a), (c - x) / (c - b), 1))\n",
    "\n",
    "def banyak(x, a=600, b=1000):\n",
    "    return max(0, min((x - a) / (b - a), 1))\n",
    "\n",
    "def produksi_berkurang(alpha, a=0, b=8000):\n",
    "    return a + alpha * (b - a)\n",
    "\n",
    "def produksi_bertambah(alpha, a=0, b=8000):\n",
    "    return b - alpha * (b - a)\n",
    "\n",
    "# Input Permintaan dan Persediaan\n",
    "permintaan = 2000  # Contoh input\n",
    "persediaan = 700   # Contoh input\n",
    "\n",
    "# Derajat keanggotaan fuzzy\n",
    "mu_turun = turun(permintaan)\n",
    "mu_tetap = tetap(permintaan)\n",
    "mu_naik = naik(permintaan)\n",
    "\n",
    "mu_sedikit = sedikit(persediaan)\n",
    "mu_sedang = sedang(persediaan)\n",
    "mu_banyak = banyak(persediaan)\n",
    "\n",
    "# Inferensi (Aturan Fuzzy)\n",
    "rules = []\n",
    "# Jika Permintaan Turun dan Persediaan Sedikit maka Produksi Bertambah\n",
    "rules.append(min(mu_turun, mu_sedikit, produksi_bertambah(1)))\n",
    "# Jika Permintaan Turun dan Persediaan Sedang maka Produksi Berkurang\n",
    "rules.append(min(mu_turun, mu_sedang, produksi_berkurang(1)))\n",
    "# Jika Permintaan Turun dan Persediaan Banyak maka Produksi Berkurang\n",
    "rules.append(min(mu_turun, mu_banyak, produksi_berkurang(1)))\n",
    "# Jika Permintaan Tetap dan Persediaan Sedikit maka Produksi Bertambah\n",
    "rules.append(min(mu_tetap, mu_sedikit, produksi_bertambah(1)))\n",
    "# Jika Permintaan Tetap dan Persediaan Sedang maka Produksi Berkurang\n",
    "rules.append(min(mu_tetap, mu_sedang, produksi_berkurang(1)))\n",
    "# Jika Permintaan Tetap dan Persediaan Banyak maka Produksi Berkurang\n",
    "rules.append(min(mu_tetap, mu_banyak, produksi_berkurang(1)))\n",
    "# Jika Permintaan Naik dan Persediaan Sedikit maka Produksi Bertambah\n",
    "rules.append(min(mu_naik, mu_sedikit, produksi_bertambah(1)))\n",
    "# Jika Permintaan Naik dan Persediaan Sedang maka Produksi Bertambah\n",
    "rules.append(min(mu_naik, mu_sedang, produksi_bertambah(1)))\n",
    "# Jika Permintaan Naik dan Persediaan Banyak maka Produksi Berkurang\n",
    "rules.append(min(mu_naik, mu_banyak, produksi_berkurang(1)))\n",
    "\n",
    "# Defuzzifikasi (Metode rata-rata terpusat)\n",
    "numerator = sum([alpha * z for alpha, z in zip(rules, [8000, 0, 0, 8000, 0, 0, 8000, 8000, 0])])\n",
    "denominator = sum(rules)\n",
    "\n",
    "produksi = numerator / denominator if denominator != 0 else 0\n",
    "\n",
    "# Output\n",
    "print(f\"Permintaan: {permintaan}, Persediaan: {persediaan}\")\n",
    "print(f\"Produksi (Defuzzifikasi): {produksi}\")"
   ]
  },
  {
   "cell_type": "code",
   "execution_count": null,
   "id": "587bbe01-4ab8-4ca4-8a91-ec230fb26dc4",
   "metadata": {},
   "outputs": [],
   "source": []
  }
 ],
 "metadata": {
  "kernelspec": {
   "display_name": "Python 3 (ipykernel)",
   "language": "python",
   "name": "python3"
  },
  "language_info": {
   "codemirror_mode": {
    "name": "ipython",
    "version": 3
   },
   "file_extension": ".py",
   "mimetype": "text/x-python",
   "name": "python",
   "nbconvert_exporter": "python",
   "pygments_lexer": "ipython3",
   "version": "3.12.5"
  }
 },
 "nbformat": 4,
 "nbformat_minor": 5
}
